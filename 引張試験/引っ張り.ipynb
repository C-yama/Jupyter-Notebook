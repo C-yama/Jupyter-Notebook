{
 "cells": [
  {
   "cell_type": "markdown",
   "metadata": {},
   "source": [
    "### 参考\n",
    "https://www.jsme.or.jp/kaisi/1202-36/"
   ]
  },
  {
   "cell_type": "code",
   "execution_count": 1,
   "metadata": {},
   "outputs": [],
   "source": [
    "import numpy as np\n",
    "import matplotlib.pyplot as plt\n",
    "import matplotlib.patches as pat\n",
    "import cv2\n",
    "%matplotlib inline"
   ]
  },
  {
   "cell_type": "code",
   "execution_count": 2,
   "metadata": {},
   "outputs": [],
   "source": [
    "#初期座標\n",
    "x1=0\n",
    "x2=3\n",
    "y1=0\n",
    "y2=3\n",
    "\n",
    "#各種パラメータ\n",
    "power=10 #外力\n",
    "area=9 #断面積\n",
    "stress=power/area #応力\n",
    "\n",
    "young=1 #ヤング率\n",
    "x_strain=stress/young #x方向のひずみ\n",
    "delta_x=x_strain*x2 #元の長さからどれぐらい伸びたか\n",
    "x3=delta_x+x2 #伸ばした時のx座標\n",
    "\n",
    "poisson=0.49 #ポアソン比\n",
    "y_strain=-poisson*x_strain #y方向のひずみ(定義式では負になるので、絶対値にしている)\n",
    "y3=y2+y2*y_strain #伸ばした時のy座標\n"
   ]
  },
  {
   "cell_type": "code",
   "execution_count": 3,
   "metadata": {},
   "outputs": [
    {
     "data": {
      "text/plain": [
       "<matplotlib.patches.Polygon at 0x230e08d1160>"
      ]
     },
     "execution_count": 3,
     "metadata": {},
     "output_type": "execute_result"
    },
    {
     "data": {
      "image/png": "[encoded data removed]",
      "text/plain": [
       "<Figure size 720x720 with 2 Axes>"
      ]
     },
     "metadata": {
      "needs_background": "light"
     },
     "output_type": "display_data"
    }
   ],
   "source": [
    "#描画(試しに最初と最後の画像を作成)\n",
    "fig=plt.figure(figsize=(10,10))\n",
    "\n",
    "ax1=fig.add_subplot(2,2,1)\n",
    "plt.xlim(0,10)\n",
    "plt.ylim(0,5) \n",
    "plt.title('Before')\n",
    "\n",
    "ax2=fig.add_subplot(2,2,2)\n",
    "plt.xlim(0,10)\n",
    "plt.ylim(0,5) \n",
    "plt.title('After')\n",
    "\n",
    "p1=pat.Polygon(xy=[(x1,y1),(x2,y1),(x2,y2),(x1,y2)],color='peru') #座標から四角形を描写する\n",
    "p2=pat.Polygon(xy=[(x1,y1),(x3,y1),(x3,y3),(x1,y3)],color='peru')\n",
    "\n",
    "ax1.add_patch(p1) #貼り付ける\n",
    "ax2.add_patch(p2)\n",
    "\n"
   ]
  },
  {
   "cell_type": "markdown",
   "metadata": {},
   "source": [
    "### オマケ　引っ張りの動画作成(要改善)"
   ]
  },
  {
   "cell_type": "code",
   "execution_count": null,
   "metadata": {
    "scrolled": false
   },
   "outputs": [],
   "source": [
    "#最初から最後(引っ張り後)までの画像を作成する\n",
    "xx=np.arange(x2,x3, 0.01) #座標の範囲を決める\n",
    "yy=np.arange(y2,y3, -0.003)\n",
    "leng=len(xx)\n",
    "\n",
    "for i in range(0,leng):\n",
    "    fig4=plt.figure(figsize=(5,5))\n",
    "    ax4=fig4.add_subplot(1,1,1)\n",
    "    plt.xlim(0,10)\n",
    "    plt.ylim(0,5)\n",
    "    \n",
    "    p3=pat.Polygon(xy=[(x1,y1),(xx[i],y1),(xx[i],yy[i]),(x1,yy[i])],color='peru') #動いている座標を指定する\n",
    "    img=ax4.add_patch(p3) # グラフを作成\n",
    "    plt.title(\"sample animation\")\n",
    "    \n",
    "    filename=str(i)+'.jpeg'\n",
    "    plt.savefig(filename)\n"
   ]
  },
  {
   "cell_type": "code",
   "execution_count": null,
   "metadata": {},
   "outputs": [],
   "source": [
    "import cv2\n",
    "\n",
    "frame_rate=20\n",
    "fourcc=cv2.VideoWriter_fourcc('m','p','4,','v') #動画形式決定(ここではmp4ファイル)\n",
    "video=cv2.VideoWriter('sample1.mp4',fourcc,frame_rate,(360,360)) #名前、フレーム数、大きさを指定(大きさは作成した画像そのまま)\n",
    "\n",
    "i=1\n",
    "while True:\n",
    "    img=cv2.imread(str(i)+'.jpeg')\n",
    "    if img is None:\n",
    "        break\n",
    "    video.write(img)\n",
    "    i+=1\n",
    "\n",
    "video.release()"
   ]
  }
 ],
 "metadata": {
  "kernelspec": {
   "display_name": "Python 3",
   "language": "python",
   "name": "python3"
  },
  "language_info": {
   "codemirror_mode": {
    "name": "ipython",
    "version": 3
   },
   "file_extension": ".py",
   "mimetype": "text/x-python",
   "name": "python",
   "nbconvert_exporter": "python",
   "pygments_lexer": "ipython3",
   "version": "3.7.3"
  }
 },
 "nbformat": 4,
 "nbformat_minor": 2
}
